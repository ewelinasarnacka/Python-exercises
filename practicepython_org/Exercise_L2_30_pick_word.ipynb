{
 "cells": [
  {
   "cell_type": "markdown",
   "metadata": {},
   "source": [
    "## Exercise 30 - Pick Word\n",
    "\n",
    "https://www.practicepython.org/exercise/2016/09/24/30-pick-word.html"
   ]
  },
  {
   "cell_type": "code",
   "execution_count": 2,
   "metadata": {},
   "outputs": [
    {
     "name": "stdout",
     "output_type": "stream",
     "text": [
      "BOILOFF\n"
     ]
    }
   ],
   "source": [
    "import random\n",
    "\n",
    "with open(\"30_sowpods.txt\") as word:\n",
    "    words = list(word)\n",
    "print(random.choice(words).strip())"
   ]
  },
  {
   "cell_type": "code",
   "execution_count": 3,
   "metadata": {},
   "outputs": [
    {
     "name": "stdout",
     "output_type": "stream",
     "text": [
      "Random word:  FIDDLEDEEDEE\n"
     ]
    }
   ],
   "source": [
    "# read all the list of words\n",
    "words = []\n",
    "with open('30_sowpods.txt', 'r') as f:\n",
    "    line = f.readline().strip()\n",
    "    words.append(line)\n",
    "    while line:\n",
    "        line = f.readline().strip()\n",
    "        words.append(line)\n",
    "\n",
    "  # generate a random number\n",
    "random_index = random.randint(0, len(words))\n",
    "print(\"Random word: \", words[random_index])"
   ]
  },
  {
   "cell_type": "code",
   "execution_count": null,
   "metadata": {},
   "outputs": [],
   "source": []
  }
 ],
 "metadata": {
  "kernelspec": {
   "display_name": "Python 3",
   "language": "python",
   "name": "python3"
  },
  "language_info": {
   "codemirror_mode": {
    "name": "ipython",
    "version": 3
   },
   "file_extension": ".py",
   "mimetype": "text/x-python",
   "name": "python",
   "nbconvert_exporter": "python",
   "pygments_lexer": "ipython3",
   "version": "3.7.5"
  }
 },
 "nbformat": 4,
 "nbformat_minor": 2
}
