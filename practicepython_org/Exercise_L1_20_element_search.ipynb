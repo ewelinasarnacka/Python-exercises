{
 "cells": [
  {
   "cell_type": "markdown",
   "metadata": {},
   "source": [
    "## Exercise 20 - Element Search\n",
    "\n",
    "https://www.practicepython.org/exercise/2014/11/11/20-element-search.html"
   ]
  },
  {
   "cell_type": "code",
   "execution_count": 3,
   "metadata": {},
   "outputs": [
    {
     "name": "stdout",
     "output_type": "stream",
     "text": [
      "Enter a list of intigers separated by coma 1,2,3,4\n",
      "[1, 2, 3, 4]\n",
      "Enter eny number: 4\n"
     ]
    }
   ],
   "source": [
    "while True:\n",
    "    input_num = input(\"Enter a list of intigers separated by coma \")\n",
    "    list_random = input_num.split(\",\")\n",
    "    \n",
    "    try:\n",
    "        list_num = []\n",
    "        for i in list_random:\n",
    "            num = int(i)\n",
    "            list_num.append(num)\n",
    "        print(list_num)\n",
    "        break\n",
    "    except ValueError:\n",
    "        print(\"Error - it isn't intigers. Try again.\")\n",
    "    \n",
    "    \n",
    "    #if all(isinstance(n, int) for n in list_num) == True:\n",
    "     #   break\n",
    "    #else:\n",
    "     #   print(\"Error - it isn't intigers. Try again.\")\n",
    "        \n",
    "list_sorted = sorted(list_num)\n",
    "\n",
    "while True:\n",
    "    try:\n",
    "        number = int(input(\"Enter eny number: \"))\n",
    "        break\n",
    "    except ValueError:\n",
    "        print(\"Error - it isn't intiger. Try again.\")"
   ]
  },
  {
   "cell_type": "code",
   "execution_count": 6,
   "metadata": {},
   "outputs": [
    {
     "name": "stdout",
     "output_type": "stream",
     "text": [
      "[1, 2, 3, 4]\n",
      "[1, 2, 3, 4]\n",
      "4\n",
      "Yes\n"
     ]
    }
   ],
   "source": [
    "print(list_num)\n",
    "print(list_sorted)\n",
    "print(number)\n",
    "\n",
    "if list_sorted.count(number): #czy number jest w list_sorted\n",
    "    print(\"Yes\")\n",
    "else:\n",
    "    print(\"No\")\n",
    "    \n",
    "    \n",
    "#def num_in_list(list, number):\n",
    " #   result =  all(elem in list_sorted for elem in number)\n",
    " #   if result:\n",
    " #       print(\"Yes, lis`t_sorted contains all elements in number\")    \n",
    " #   else :\n",
    " #       print(\"No, list_sorted does not contains all elements in number\")    \n",
    "    \n",
    "#if __name__ == '__main__':\n",
    "#    num_in_list(list_sorted, number)"
   ]
  },
  {
   "cell_type": "code",
   "execution_count": 7,
   "metadata": {},
   "outputs": [
    {
     "name": "stdout",
     "output_type": "stream",
     "text": [
      "False\n",
      "True\n"
     ]
    }
   ],
   "source": [
    "# rozwiązanie ze strony\n",
    "\n",
    "def find(ordered_list, element_to_find):\n",
    "    for element in ordered_list:\n",
    "        if element == element_to_find:\n",
    "            return True\n",
    "    return False\n",
    "  \n",
    "if __name__==\"__main__\":\n",
    "    print(find(list_sorted, 11))\n",
    "    print(find(list_sorted, 2))"
   ]
  },
  {
   "cell_type": "code",
   "execution_count": 8,
   "metadata": {},
   "outputs": [
    {
     "name": "stdout",
     "output_type": "stream",
     "text": [
      "Szukana liczba = 0\n",
      "False\n",
      "Szukana liczba = 1\n",
      "True\n",
      "Szukana liczba = 2\n",
      "True\n",
      "Szukana liczba = 3\n",
      "True\n",
      "Szukana liczba = 4\n",
      "True\n",
      "Szukana liczba = 5.5\n",
      "True\n",
      "Szukana liczba = 6\n",
      "True\n",
      "Szukana liczba = 7\n",
      "False\n",
      "Szukana liczba = 8\n",
      "True\n",
      "Szukana liczba = 9\n",
      "True\n",
      "Szukana liczba = 10\n",
      "False\n"
     ]
    }
   ],
   "source": [
    "# Extras\n",
    "\n",
    "import math\n",
    "ordered_list = [1,2,3,4,5.5,6,8,9,11]\n",
    "\n",
    "def binary_search(ordered_list, element_to_find):\n",
    "    my_list = ordered_list\n",
    "    start_index = 0\n",
    "    print(\"Szukana liczba =\", element_to_find)\n",
    "    while True:\n",
    "        end_index = int(math.ceil(len(my_list)-1)) # ceil - zaokrąglanie do góry    \n",
    "        middle_index = int((end_index - start_index)/2)\n",
    "        middle_element = my_list[middle_index]\n",
    "        #print(my_list)\n",
    "        #print(\"Middle index =\", middle_index)\n",
    "        #print(\"Middle element =\", middle_element)\n",
    "        #print(\"Start index =\", start_index)\n",
    "        #print(\"End index =\", end_index)\n",
    "        if len(my_list) == 1 and element_to_find == my_list[0]:\n",
    "            return True\n",
    "        elif len(my_list) == 1 and element_to_find != my_list[0]:\n",
    "            return False\n",
    "        elif len(my_list) == 2 and element_to_find == my_list[1]:\n",
    "            return True\n",
    "        elif len(my_list) == 2 and element_to_find != my_list[1]:\n",
    "            return False\n",
    "        else:\n",
    "            if element_to_find == middle_element:\n",
    "                return True\n",
    "            elif element_to_find < middle_element:\n",
    "                my_list = my_list[:middle_index]\n",
    "            elif element_to_find > middle_element:\n",
    "                my_list = my_list[middle_index:]\n",
    "            else:\n",
    "                break\n",
    "\n",
    "if __name__ == \"__main__\":\n",
    "    print(binary_search(ordered_list,0))\n",
    "    print(binary_search(ordered_list,1))\n",
    "    print(binary_search(ordered_list,2))\n",
    "    print(binary_search(ordered_list,3))\n",
    "    print(binary_search(ordered_list,4))\n",
    "    print(binary_search(ordered_list,5.5))\n",
    "    print(binary_search(ordered_list,6))\n",
    "    print(binary_search(ordered_list,7))\n",
    "    print(binary_search(ordered_list,8))\n",
    "    print(binary_search(ordered_list,9))\n",
    "    print(binary_search(ordered_list,10))"
   ]
  },
  {
   "cell_type": "code",
   "execution_count": null,
   "metadata": {},
   "outputs": [],
   "source": []
  }
 ],
 "metadata": {
  "kernelspec": {
   "display_name": "Python 3",
   "language": "python",
   "name": "python3"
  },
  "language_info": {
   "codemirror_mode": {
    "name": "ipython",
    "version": 3
   },
   "file_extension": ".py",
   "mimetype": "text/x-python",
   "name": "python",
   "nbconvert_exporter": "python",
   "pygments_lexer": "ipython3",
   "version": "3.7.5"
  }
 },
 "nbformat": 4,
 "nbformat_minor": 2
}
