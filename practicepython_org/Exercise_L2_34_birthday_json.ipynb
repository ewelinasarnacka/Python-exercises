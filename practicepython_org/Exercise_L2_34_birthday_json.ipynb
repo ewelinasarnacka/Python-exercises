{
 "cells": [
  {
   "cell_type": "markdown",
   "metadata": {},
   "source": [
    "## Exercise 34 - Birthday Json\n",
    "\n",
    "https://www.practicepython.org/exercise/2017/02/06/34-birthday-json.html"
   ]
  },
  {
   "cell_type": "code",
   "execution_count": 31,
   "metadata": {},
   "outputs": [
    {
     "name": "stdout",
     "output_type": "stream",
     "text": [
      "{'Ewa': '1988-04-13', 'Ewelina': '1982-07-02', 'Artur': '1980-07-02'}\n"
     ]
    }
   ],
   "source": [
    "import json\n",
    "\n",
    "info_about_bd = {'Ewa': \"1988-04-13\",\n",
    "    'Ewelina': \"1982-07-02\",\n",
    "    'Artur': \"1980-07-02\"\n",
    "}\n",
    "with open(\"34_birthday.json\", \"w\") as f:\n",
    "    json.dump(info_about_bd, f)\n",
    "\n",
    "print(info_about_bd)"
   ]
  },
  {
   "cell_type": "code",
   "execution_count": 32,
   "metadata": {},
   "outputs": [
    {
     "name": "stdout",
     "output_type": "stream",
     "text": [
      "{'Ewa': '1988-04-13', 'Ewelina': '1982-07-02', 'Artur': '1980-07-02'}\n"
     ]
    }
   ],
   "source": [
    "import json\n",
    "\n",
    "birthday = {}\n",
    "with open('34_birthday.json', 'r') as f:\n",
    "          birthday = json.load(f)\n",
    "print(birthday)"
   ]
  },
  {
   "cell_type": "code",
   "execution_count": 33,
   "metadata": {},
   "outputs": [
    {
     "name": "stdout",
     "output_type": "stream",
     "text": [
      "Ewa 1988-04-13\n",
      "Ewelina 1982-07-02\n",
      "Artur 1980-07-02\n",
      "Welcome to the birthday dictionary.\n",
      "Who's birthday do you want to look up?\n",
      "Enter one name: Ewa\n",
      "Ewa\n",
      "Ewa is born on 1988-04-13\n",
      "\n"
     ]
    }
   ],
   "source": [
    "import json\n",
    "\n",
    "birthday = {}\n",
    "with open('34_birthday.json', 'r') as f:\n",
    "          birthday = json.load(f)\n",
    "\n",
    "for friend in birthday:\n",
    "    print(friend, birthday[friend])\n",
    "    \n",
    "print(\"Welcome to the birthday dictionary.\\nWho's birthday do you want to look up?\")\n",
    "while True:\n",
    "    friend = input(\"Enter one name: \").title()\n",
    "    print(friend)\n",
    "    try:\n",
    "        #print(friend, \"birthday is on:\", birthday[friend])\n",
    "        print('{} is born on {}\\n'.format(friend, birthday[friend]))\n",
    "        break\n",
    "    except:\n",
    "        print(\"Such a name was not found.\\nTray again.\")\n",
    "       # new_birthday = input(\"Would you like add a new fritend (Y/N)?\")\n",
    "        #if new_birthday == \"Y\":\n",
    "         #   info_about_bd['dict'].append(({\"Karol\": \"1983-07-13\"}))\n",
    "          #  with open(\"34_birthday.json\", \"w\") as f:\n",
    "           #     json.dump(info_about_bd, f)\n",
    "                "
   ]
  },
  {
   "cell_type": "code",
   "execution_count": null,
   "metadata": {},
   "outputs": [],
   "source": []
  }
 ],
 "metadata": {
  "kernelspec": {
   "display_name": "Python 3",
   "language": "python",
   "name": "python3"
  },
  "language_info": {
   "codemirror_mode": {
    "name": "ipython",
    "version": 3
   },
   "file_extension": ".py",
   "mimetype": "text/x-python",
   "name": "python",
   "nbconvert_exporter": "python",
   "pygments_lexer": "ipython3",
   "version": "3.7.5"
  }
 },
 "nbformat": 4,
 "nbformat_minor": 2
}
