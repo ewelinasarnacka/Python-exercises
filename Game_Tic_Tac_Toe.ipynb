{
 "cells": [
  {
   "cell_type": "markdown",
   "metadata": {},
   "source": [
    "## Game - Tic Tac Toe"
   ]
  },
  {
   "cell_type": "code",
   "execution_count": 1,
   "metadata": {},
   "outputs": [],
   "source": [
    "def choose_x_o ():\n",
    "    player_1 = ''\n",
    "    while player_1 not in ('X', 'O'):\n",
    "        player_1 = input('Player 1: Do you want to be X or O?\\n').upper()\n",
    "        if player_1 in ('X', 'O'):\n",
    "            break\n",
    "        else:\n",
    "            print('You can choose only X or O.\\nTray again.')\n",
    "            \n",
    "    if player_1 == 'X':\n",
    "        player_2 = 'O'\n",
    "    else:\n",
    "        player_2 = 'X'\n",
    "    return player_1, player_2"
   ]
  },
  {
   "cell_type": "code",
   "execution_count": 2,
   "metadata": {},
   "outputs": [],
   "source": [
    "def choose_player(move_num):\n",
    "    if move_num%2 == 0:\n",
    "        player = '1'\n",
    "    else:\n",
    "        player = '2'\n",
    "    return player"
   ]
  },
  {
   "cell_type": "code",
   "execution_count": 3,
   "metadata": {},
   "outputs": [],
   "source": [
    "def your_move(player):\n",
    "    while True:\n",
    "        move = input('Player {} your move (select row & column)!\\n'.format(player))\n",
    "        move_str = move.split(',')\n",
    "        if len(move_str) == 2 and move_str[0] in ('1','2','3') and move_str[1] in ('1','2','3'):\n",
    "            break\n",
    "        else:\n",
    "            print(\"Error - wrong values\")\n",
    "    return move_str"
   ]
  },
  {
   "cell_type": "code",
   "execution_count": 4,
   "metadata": {},
   "outputs": [],
   "source": [
    "def move_check(move,x_o):\n",
    "    if game[int(move[0])-1][int(move[1])-1] == (' '):\n",
    "        move_check = 1\n",
    "        game[int(move[0])-1][int(move[1])-1] = x_o\n",
    "    else:\n",
    "        move_check = 0\n",
    "        print('Error - this place is not aveable')\n",
    "    return move_check"
   ]
  },
  {
   "cell_type": "code",
   "execution_count": 5,
   "metadata": {},
   "outputs": [],
   "source": [
    "def print_table(game):\n",
    "    print(game[0][0] + '|' + game[0][1] + '|' + game[0][2])\n",
    "    print('- - -')\n",
    "    print(game[1][0] + '|' + game[1][1] + '|' + game[1][2])\n",
    "    print('- - -')\n",
    "    print(game[2][0] + '|' + game[2][1] + '|' + game[2][2])"
   ]
  },
  {
   "cell_type": "code",
   "execution_count": 6,
   "metadata": {},
   "outputs": [],
   "source": [
    "def winner_is(game,player):\n",
    "    wynik = 0\n",
    "    for i in (0,1,2):\n",
    "        if (game[i][0] == game[i][1] == game[i][2] != ' ' \n",
    "            or game[0][i] == game[1][i] == game[2][i] != ' '\n",
    "            or game[0][0] == game[1][1] == game[2][2] != ' '\n",
    "            or game[2][0] == game[1][1] == game[0][2] != ' '):\n",
    "            wynik += 1\n",
    "        else:\n",
    "            wynik += 0\n",
    "    return wynik > 0, player"
   ]
  },
  {
   "cell_type": "code",
   "execution_count": 7,
   "metadata": {},
   "outputs": [
    {
     "name": "stdout",
     "output_type": "stream",
     "text": [
      "Good bye!\n"
     ]
    }
   ],
   "source": [
    "from IPython.display import clear_output\n",
    "\n",
    "print('Welcome to Tic Tac Toe!')\n",
    "\n",
    "while True:\n",
    "    game = [[' ',' ',' '],\n",
    "            [' ',' ',' '],\n",
    "            [' ',' ',' ']]\n",
    "    move_num = 0\n",
    "\n",
    "    players = choose_x_o()\n",
    "    player_1 = players[0]\n",
    "    player_2 = players[1]\n",
    "    print('Player 1: {}'.format(player_1))\n",
    "    print('Player 2: {}'.format(player_2))\n",
    "    print_table(game)\n",
    "\n",
    "    player = choose_player(move_num)\n",
    "    move = your_move(player)\n",
    "    print(move)\n",
    "\n",
    "    x_o = players[int(player)-1]\n",
    "    check = move_check(move,x_o)\n",
    "    print(str(check))\n",
    "\n",
    "    clear_output()\n",
    "    print_table(game)\n",
    "    \n",
    "    move_num = move_num + check\n",
    "    winner = winner_is(game,player)\n",
    "    \n",
    "    while winner[0] == False and move_num != 9:\n",
    "        player = choose_player(move_num)\n",
    "        move = your_move(player)\n",
    "        x_o = players[int(player)-1]\n",
    "        check = move_check(move,x_o)\n",
    "        move_num = move_num + check\n",
    "        clear_output()\n",
    "        print_table(game)\n",
    "        winner = winner_is(game,player)\n",
    "\n",
    "    if winner[0] == True:\n",
    "        print('GAME OVER! The WINNER is Player ' + winner[1])\n",
    "    else:\n",
    "        print('GAME OVER!')\n",
    "\n",
    "    next_game = input('Do you want play again? (If YES choose Y)').upper()\n",
    "    if next_game != 'Y':\n",
    "        clear_output()\n",
    "        print('Good bye!')\n",
    "        break\n",
    "    else:\n",
    "        clear_output()\n",
    "        print('START')"
   ]
  },
  {
   "cell_type": "code",
   "execution_count": null,
   "metadata": {},
   "outputs": [],
   "source": []
  }
 ],
 "metadata": {
  "kernelspec": {
   "display_name": "Python 3",
   "language": "python",
   "name": "python3"
  },
  "language_info": {
   "codemirror_mode": {
    "name": "ipython",
    "version": 3
   },
   "file_extension": ".py",
   "mimetype": "text/x-python",
   "name": "python",
   "nbconvert_exporter": "python",
   "pygments_lexer": "ipython3",
   "version": "3.7.5"
  }
 },
 "nbformat": 4,
 "nbformat_minor": 2
}
