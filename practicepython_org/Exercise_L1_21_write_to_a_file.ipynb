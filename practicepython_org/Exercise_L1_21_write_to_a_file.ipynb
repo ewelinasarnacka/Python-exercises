{
 "cells": [
  {
   "cell_type": "markdown",
   "metadata": {},
   "source": [
    "## Exercise 21 - Write To A File\n",
    "\n",
    "https://www.practicepython.org/exercise/2014/11/30/21-write-to-a-file.html"
   ]
  },
  {
   "cell_type": "code",
   "execution_count": null,
   "metadata": {},
   "outputs": [],
   "source": [
    "for i in range(1,11):\n",
    "    print(\"To jest wiersz\", i)\n",
    "    \n",
    "text_file = open(\"Exercise_21.txt\", \"w\")\n",
    "text_file.write(\"Purchase Amount: \" 'TotalAmount')\n",
    "text_file.close()\n",
    "\n",
    "# LUB\n",
    "\n",
    "with open('Exercise_21.txt', 'w') as open_file:\n",
    "    open_file.write('A string to write')\n",
    "    \n",
    "# Extras\n",
    "\n",
    "name_file = input(\"Enter file name: \")\n",
    "print(name_file)\n",
    "\n",
    "text_file = open(name_file+\".txt\", \"w\")\n",
    "text_file.write(\"Purchase Amount: \" 'TotalAmount')\n",
    "text_file.close()"
   ]
  },
  {
   "cell_type": "code",
   "execution_count": null,
   "metadata": {},
   "outputs": [],
   "source": [
    "from bs4 import BeautifulSoup\n",
    " \n",
    "base_url = 'http://www.nytimes.com'\n",
    "r = requests.get(base_url)\n",
    "soup = BeautifulSoup(r.text)\n",
    "\n",
    "filename = input(\"File to save to: \")\n",
    "\n",
    "with open(filename, 'w') as f:\n",
    "    for story_heading in soup.find_all(class_=\"story-heading\"): \n",
    "        if story_heading.a: \n",
    "            f.write(story_heading.a.text.replace(\"\\n\", \" \").strip())\n",
    "        else: \n",
    "            f.write(story_heading.contents[0].strip())"
   ]
  }
 ],
 "metadata": {
  "kernelspec": {
   "display_name": "Python 3",
   "language": "python",
   "name": "python3"
  },
  "language_info": {
   "codemirror_mode": {
    "name": "ipython",
    "version": 3
   },
   "file_extension": ".py",
   "mimetype": "text/x-python",
   "name": "python",
   "nbconvert_exporter": "python",
   "pygments_lexer": "ipython3",
   "version": "3.7.5"
  }
 },
 "nbformat": 4,
 "nbformat_minor": 2
}
