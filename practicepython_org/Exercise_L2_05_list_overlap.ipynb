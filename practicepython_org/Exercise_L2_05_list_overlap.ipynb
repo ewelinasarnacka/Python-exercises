{
 "cells": [
  {
   "cell_type": "markdown",
   "metadata": {},
   "source": [
    "## Exercise 5 - List Overlap\n",
    "\n",
    "https://www.practicepython.org/exercise/2014/03/05/05-list-overlap.html"
   ]
  },
  {
   "cell_type": "code",
   "execution_count": 1,
   "metadata": {},
   "outputs": [
    {
     "name": "stdout",
     "output_type": "stream",
     "text": [
      "[1, 1, 2, 3, 5, 5, 8, 13, 21, 34, 55, 89]\n",
      "[1, 2, 3, 4, 5, 5, 6, 7, 8, 9, 10, 11, 12, 13]\n",
      "{1, 2, 3, 5, 8, 13}\n",
      "{1, 2, 3, 5, 8, 13}\n",
      "{1, 2, 3, 5, 8, 13}\n"
     ]
    }
   ],
   "source": [
    "list_a = [1, 1, 2, 3, 5, 5, 8, 13, 21, 34, 55, 89]\n",
    "list_b = [1, 2, 3, 4, 5, 5, 6, 7, 8, 9, 10, 11, 12, 13]\n",
    "print(list_a)\n",
    "print(list_b)\n",
    "\n",
    "print(set(list_a)&set(list_b))\n",
    "\n",
    "common_1 = set(list_a).intersection(list_b)\n",
    "common_2 = set(list_a) - (set(list_a) - set(list_b))\n",
    "print(common_1)\n",
    "print(common_2)"
   ]
  },
  {
   "cell_type": "code",
   "execution_count": 2,
   "metadata": {},
   "outputs": [
    {
     "name": "stdout",
     "output_type": "stream",
     "text": [
      "[5, 5, 5, 10, 5, 45, 45, 40, 15, 10]\n",
      "[65, 50, 55, 70, 10, 40, 80, 30, 75, 90]\n"
     ]
    }
   ],
   "source": [
    "# Extras\n",
    "\n",
    "import random\n",
    "\n",
    "list_a = list()\n",
    "list_b = list()\n",
    "for i in range(10):\n",
    "    list_a.append(random.randrange(0,50,5))\n",
    "    list_b.append(random.randrange(0,100,5))\n",
    "print(list_a)\n",
    "print(list_b)"
   ]
  },
  {
   "cell_type": "code",
   "execution_count": null,
   "metadata": {},
   "outputs": [],
   "source": []
  }
 ],
 "metadata": {
  "kernelspec": {
   "display_name": "Python 3",
   "language": "python",
   "name": "python3"
  },
  "language_info": {
   "codemirror_mode": {
    "name": "ipython",
    "version": 3
   },
   "file_extension": ".py",
   "mimetype": "text/x-python",
   "name": "python",
   "nbconvert_exporter": "python",
   "pygments_lexer": "ipython3",
   "version": "3.7.5"
  }
 },
 "nbformat": 4,
 "nbformat_minor": 2
}
