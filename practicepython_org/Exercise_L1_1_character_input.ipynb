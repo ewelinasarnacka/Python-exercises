{
 "cells": [
  {
   "cell_type": "markdown",
   "metadata": {},
   "source": [
    "## Exercise 1 - Character Input\n",
    "\n",
    "https://www.practicepython.org/exercise/2014/01/29/01-character-input.html"
   ]
  },
  {
   "cell_type": "code",
   "execution_count": 1,
   "metadata": {},
   "outputs": [
    {
     "name": "stdout",
     "output_type": "stream",
     "text": [
      "What is your name? Ewa\n",
      "How old are you? 23\n",
      "In year 2097 you will be 100 years old!\n"
     ]
    }
   ],
   "source": [
    "from datetime import datetime\n",
    "current_year = datetime.now().year\n",
    "         \n",
    "name = input(\"What is your name? \")\n",
    "\n",
    "while True:\n",
    "    try:\n",
    "        age = int(input(\"How old are you? \"))\n",
    "        break\n",
    "    except ValueError:\n",
    "        print(\"Error - it isn't integer. Try again.\")\n",
    "\n",
    "year_age_100 = current_year + (100 - age)\n",
    "print(\"In year\",year_age_100,\"you will be 100 years old!\")"
   ]
  },
  {
   "cell_type": "code",
   "execution_count": 3,
   "metadata": {},
   "outputs": [
    {
     "name": "stdout",
     "output_type": "stream",
     "text": [
      "Enter eny number: 3\n",
      "In year 2097 you will be 100 years old!...\n",
      "In year 2097 you will be 100 years old!...\n",
      "In year 2097 you will be 100 years old!...\n",
      "years_100 years_100 years_100 \n",
      "years_100\n",
      "years_100\n",
      "years_100\n",
      "\n"
     ]
    }
   ],
   "source": [
    "# EXTRAS\n",
    "\n",
    "years_100 = (\"In year \" + str(year_age_100) + \" you will be 100 years old!...\")\n",
    "\n",
    "while True:\n",
    "    try:\n",
    "        user_number = int(input(\"Enter eny number: \"))\n",
    "        break\n",
    "    except ValueError:\n",
    "        print(\"Error - it isn't integer. Try again.\")\n",
    "\n",
    "for i in range(user_number):\n",
    "    print(years_100)\n",
    "    \n",
    "print((\"years_100\" + \" \") * user_number)\n",
    "\n",
    "print((\"years_100\" + '\\n') * user_number)"
   ]
  },
  {
   "cell_type": "code",
   "execution_count": null,
   "metadata": {},
   "outputs": [],
   "source": []
  }
 ],
 "metadata": {
  "kernelspec": {
   "display_name": "Python 3",
   "language": "python",
   "name": "python3"
  },
  "language_info": {
   "codemirror_mode": {
    "name": "ipython",
    "version": 3
   },
   "file_extension": ".py",
   "mimetype": "text/x-python",
   "name": "python",
   "nbconvert_exporter": "python",
   "pygments_lexer": "ipython3",
   "version": "3.7.5"
  }
 },
 "nbformat": 4,
 "nbformat_minor": 2
}
