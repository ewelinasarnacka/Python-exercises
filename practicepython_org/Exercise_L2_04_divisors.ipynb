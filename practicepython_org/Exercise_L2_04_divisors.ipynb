{
 "cells": [
  {
   "cell_type": "markdown",
   "metadata": {},
   "source": [
    "## Exercise 4 - Divisors\n",
    "\n",
    "https://www.practicepython.org/exercise/2014/02/26/04-divisors.html"
   ]
  },
  {
   "cell_type": "code",
   "execution_count": 1,
   "metadata": {},
   "outputs": [
    {
     "name": "stdout",
     "output_type": "stream",
     "text": [
      "Enter any intiger:\n",
      "55\n",
      "Divisors for the number 55 are : [1, 5, 11, 55]\n"
     ]
    }
   ],
   "source": [
    "while True:\n",
    "    try:       \n",
    "        number = int(input(\"Enter any intiger:\\n\"))\n",
    "        break\n",
    "    except:\n",
    "        print(\"The naumber isn't intiger. Try again.\")\n",
    "        \n",
    "num_half = int(round(number/2,0))\n",
    "divisors = list()\n",
    "for i in range(1,num_half):\n",
    "    if number % i == 0:\n",
    "        divisors.append(i)\n",
    "divisors.append(number)\n",
    "\n",
    "print(\"Divisors for the number\", number, \"are :\", divisors)"
   ]
  },
  {
   "cell_type": "code",
   "execution_count": null,
   "metadata": {},
   "outputs": [],
   "source": []
  }
 ],
 "metadata": {
  "kernelspec": {
   "display_name": "Python 3",
   "language": "python",
   "name": "python3"
  },
  "language_info": {
   "codemirror_mode": {
    "name": "ipython",
    "version": 3
   },
   "file_extension": ".py",
   "mimetype": "text/x-python",
   "name": "python",
   "nbconvert_exporter": "python",
   "pygments_lexer": "ipython3",
   "version": "3.7.5"
  }
 },
 "nbformat": 4,
 "nbformat_minor": 2
}
