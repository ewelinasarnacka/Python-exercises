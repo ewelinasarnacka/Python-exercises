{
 "cells": [
  {
   "cell_type": "markdown",
   "metadata": {},
   "source": [
    "## Exercise 28 - Max Of Three\n",
    "\n",
    "https://www.practicepython.org/exercise/2016/03/27/28-max-of-three.html"
   ]
  },
  {
   "cell_type": "code",
   "execution_count": 1,
   "metadata": {},
   "outputs": [
    {
     "name": "stdout",
     "output_type": "stream",
     "text": [
      "Enter a list of 3 intigers separated by coma 3,5,7,\n",
      "Error - it isn't intigers. Try again.\n",
      "Enter a list of 3 intigers separated by coma 4,5,6,\n",
      "Error - it isn't intigers. Try again.\n",
      "Enter a list of 3 intigers separated by coma 3,4,5\n",
      "[3, 4, 5]\n",
      "[5, 4, 3]\n",
      "Max z listy = 5\n",
      "3\n",
      "5\n"
     ]
    }
   ],
   "source": [
    "while True:\n",
    "    input_num = input(\"Enter a list of 3 intigers separated by coma \")\n",
    "    list_random = input_num.split(\",\")\n",
    "    try:\n",
    "        list_num = []\n",
    "        for i in list_random:\n",
    "            num = int(i)\n",
    "            list_num.append(num)\n",
    "        print(list_num)\n",
    "        break\n",
    "    except ValueError:\n",
    "        print(\"Error - it isn't intigers. Try again.\")\n",
    "\n",
    "list_num.sort(reverse=True)\n",
    "print(list_num)\n",
    "\n",
    "print(\"Max z listy =\", list_num[0])\n",
    "\n",
    "list_len = len(list_num)\n",
    "print(list_len)\n",
    "\n",
    "\n",
    "max = float('-inf')\n",
    "for i in list_num:\n",
    "    if max < i:\n",
    "        max = i\n",
    "    else:\n",
    "        max = max\n",
    "print(max)"
   ]
  },
  {
   "cell_type": "code",
   "execution_count": null,
   "metadata": {},
   "outputs": [],
   "source": []
  }
 ],
 "metadata": {
  "kernelspec": {
   "display_name": "Python 3",
   "language": "python",
   "name": "python3"
  },
  "language_info": {
   "codemirror_mode": {
    "name": "ipython",
    "version": 3
   },
   "file_extension": ".py",
   "mimetype": "text/x-python",
   "name": "python",
   "nbconvert_exporter": "python",
   "pygments_lexer": "ipython3",
   "version": "3.7.5"
  }
 },
 "nbformat": 4,
 "nbformat_minor": 2
}
