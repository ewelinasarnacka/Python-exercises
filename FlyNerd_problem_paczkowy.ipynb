{
 "cells": [
  {
   "cell_type": "markdown",
   "metadata": {},
   "source": [
    "### Problem pączkowy"
   ]
  },
  {
   "cell_type": "code",
   "execution_count": 11,
   "metadata": {},
   "outputs": [
    {
     "name": "stdout",
     "output_type": "stream",
     "text": [
      "Wprowadź maksymalną wagę pączków, jaką chcesz zjeść (w gramach): 500\n",
      "500 gram\n"
     ]
    }
   ],
   "source": [
    "while True:\n",
    "    max_waga_paczkow = input(\"Wprowadź maksymalną wagę pączków, jaką chcesz zjeść (w gramach): \")\n",
    "    try:\n",
    "        int(max_waga_paczkow)\n",
    "        break\n",
    "    except:\n",
    "        print(\"\\nPodana wartość, nie jest wartością liczbową.\\nSpróbuj jeszcze raz.\")\n",
    "print(max_waga_paczkow, \"gram\")"
   ]
  },
  {
   "cell_type": "code",
   "execution_count": null,
   "metadata": {},
   "outputs": [
    {
     "name": "stdout",
     "output_type": "stream",
     "text": [
      "Podaj rodzaj pączka: A\n",
      "Podaj kcal pączka (w 1 pączku): 100\n",
      "Twoja lista pączków:  ['A'] ['100']\n",
      "Czy chcesz wprowadzić kolejny rodzaj pączka? (Y/N)Y\n",
      "Podaj rodzaj pączka: B\n",
      "Podaj kcal pączka (w 1 pączku): bbb\n",
      "Podana wartość nie jest wartością liczbową. Spróbuj jeszcze raz.\n",
      "Podaj rodzaj pączka: C\n",
      "Podaj kcal pączka (w 1 pączku): 200\n",
      "Twoja lista pączków:  ['A', 'B', 'C'] ['100', '200']\n"
     ]
    }
   ],
   "source": [
    "slownik_paczkow = {}\n",
    "lista_rodzaj = []\n",
    "lista_kcal = []\n",
    "while True:\n",
    "    paczki_rodzaj = input(\"Podaj rodzaj pączka: \")\n",
    "    if paczki_rodzaj in lista_rodzaj:\n",
    "        print(\"Podany rodzaj pączka już istnieje.\")\n",
    "    else:\n",
    "        paczki_kcal = input(\"Podaj kcal pączka (w 1 pączku): \")\n",
    "        try:\n",
    "            paczki_kcal_num = int(paczki_kcal)\n",
    "        lista_rodzaj.append(paczki_rodzaj)\n",
    "            lista_kcal.append(paczki_kcal)\n",
    "        except:\n",
    "            print(\"Podana wartość nie jest wartością liczbową. Spróbuj jeszcze raz.\")\n",
    "            continue\n",
    "    #paczki_waga = input(\"Podaj wagę pączka (w gramach): \")\n",
    "    \n",
    "    print(\"Twoja lista pączków: \", lista_rodzaj, lista_kcal)\n",
    "    kontynuacja = input(\"Czy chcesz wprowadzić kolejny rodzaj pączka? (Y/N)\")\n",
    "    if kontynuacja != \"Y\":\n",
    "        break\n",
    "print(lista_rodzaj)"
   ]
  },
  {
   "cell_type": "code",
   "execution_count": null,
   "metadata": {},
   "outputs": [],
   "source": []
  }
 ],
 "metadata": {
  "kernelspec": {
   "display_name": "Python 3",
   "language": "python",
   "name": "python3"
  },
  "language_info": {
   "codemirror_mode": {
    "name": "ipython",
    "version": 3
   },
   "file_extension": ".py",
   "mimetype": "text/x-python",
   "name": "python",
   "nbconvert_exporter": "python",
   "pygments_lexer": "ipython3",
   "version": "3.7.5"
  }
 },
 "nbformat": 4,
 "nbformat_minor": 2
}
