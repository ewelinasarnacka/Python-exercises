{
 "cells": [
  {
   "cell_type": "markdown",
   "metadata": {},
   "source": [
    "## Exercise 2 - Odd Or Even\n",
    "\n",
    "https://www.practicepython.org/exercise/2014/02/05/02-odd-or-even.html"
   ]
  },
  {
   "cell_type": "code",
   "execution_count": 1,
   "metadata": {},
   "outputs": [
    {
     "name": "stdout",
     "output_type": "stream",
     "text": [
      "Enter eny number: 2\n",
      "Number is even.\n",
      "The number isn't a multiple of 4\n"
     ]
    }
   ],
   "source": [
    "while True:\n",
    "    try:\n",
    "        user_number = float(input(\"Enter eny number: \"))\n",
    "        break\n",
    "    except ValueError:\n",
    "        print(\"Error - it isn't float. Try again.\")\n",
    "        \n",
    "if user_number % 2 == 0:\n",
    "    print(\"Number is even.\")\n",
    "else:\n",
    "    print(\"Number is odd.\")\n",
    "\n",
    "if user_number % 4 == 0:\n",
    "    print(\"The number is a multiple of 4\")\n",
    "else:\n",
    "    print(\"The number isn't a multiple of 4\")"
   ]
  },
  {
   "cell_type": "code",
   "execution_count": 2,
   "metadata": {},
   "outputs": [
    {
     "name": "stdout",
     "output_type": "stream",
     "text": [
      "Enter divident: 3\n",
      "Enter divisor: 4\n",
      "3.0 isn't a multiple of 4.0\n"
     ]
    }
   ],
   "source": [
    "# Extras\n",
    "\n",
    "stop = 0\n",
    "while True:\n",
    "    if stop == 0:\n",
    "        try:\n",
    "            num = float(input(\"Enter divident: \"))\n",
    "            check = float(input(\"Enter divisor: \"))\n",
    "            break\n",
    "        except ValueError:\n",
    "            user_move = input(\"Error - it isn't float. Try again or stop program (Y/N).\")\n",
    "            if user_move == \"Y\":\n",
    "                stop = 0\n",
    "            else:\n",
    "                stop = 1\n",
    "        continue\n",
    "    else:\n",
    "        print(\"Goodbay!\")\n",
    "        break\n",
    "        \n",
    "        \n",
    "if (num and check is not None) and num % check == 0:\n",
    "    print(str(num),\"is a multiple of\", str(check))\n",
    "else:\n",
    "    print(str(num),\"isn't a multiple of\", str(check))"
   ]
  },
  {
   "cell_type": "code",
   "execution_count": 3,
   "metadata": {},
   "outputs": [
    {
     "name": "stdout",
     "output_type": "stream",
     "text": [
      "(0.0, 3.0)\n",
      "The number is even.\n"
     ]
    }
   ],
   "source": [
    "x = divmod(num, check)\n",
    "print(x)\n",
    "\n",
    "if user_number % 4 == 0:\n",
    "    print(\"The number is even and is a multiple of 4.\")\n",
    "elif user_number % 2 == 0:\n",
    "    print(\"The number is even.\")\n",
    "elif user_number % check == 0:\n",
    "    print(str(user_number),\"is a multiple of\", str(check))\n",
    "else:\n",
    "    print(\"The number is odd\")"
   ]
  },
  {
   "cell_type": "code",
   "execution_count": null,
   "metadata": {},
   "outputs": [],
   "source": []
  }
 ],
 "metadata": {
  "kernelspec": {
   "display_name": "Python 3",
   "language": "python",
   "name": "python3"
  },
  "language_info": {
   "codemirror_mode": {
    "name": "ipython",
    "version": 3
   },
   "file_extension": ".py",
   "mimetype": "text/x-python",
   "name": "python",
   "nbconvert_exporter": "python",
   "pygments_lexer": "ipython3",
   "version": "3.7.5"
  }
 },
 "nbformat": 4,
 "nbformat_minor": 2
}
