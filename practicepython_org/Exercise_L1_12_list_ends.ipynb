{
 "cells": [
  {
   "cell_type": "markdown",
   "metadata": {},
   "source": [
    "## Exercise 12 - List Ends\n",
    "\n",
    "https://www.practicepython.org/exercise/2014/04/25/12-list-ends.html"
   ]
  },
  {
   "cell_type": "code",
   "execution_count": 1,
   "metadata": {},
   "outputs": [
    {
     "name": "stdout",
     "output_type": "stream",
     "text": [
      "<class 'list'>\n",
      "[1, 2, 3, 4, 5, 6]\n",
      "#1 [1, 6]\n",
      "#2 [1, 6]\n",
      "#3\n"
     ]
    },
    {
     "data": {
      "text/plain": [
       "[1, 6]"
      ]
     },
     "execution_count": 1,
     "metadata": {},
     "output_type": "execute_result"
    }
   ],
   "source": [
    "lista_1 = [1,2,3,4,5,6]\n",
    "print(type(lista_1))\n",
    "print(lista_1)\n",
    "\n",
    "lista_2 = [lista_1[0],lista_1[-1]]\n",
    "print(\"#1\", lista_2)\n",
    "\n",
    "def lista_konce(lista):\n",
    "    lista_3 = [lista[0],lista[-1]]\n",
    "    print(\"#2\", lista_3)\n",
    "    return lista_3\n",
    "\n",
    "lista_konce(lista_1)\n",
    "\n",
    "def list_ends(a_list):\n",
    "    print(\"#3\")\n",
    "    return [a_list[0], a_list[len(a_list)-1]]\n",
    "\n",
    "list_ends(lista_1)"
   ]
  },
  {
   "cell_type": "code",
   "execution_count": null,
   "metadata": {},
   "outputs": [],
   "source": []
  }
 ],
 "metadata": {
  "kernelspec": {
   "display_name": "Python 3",
   "language": "python",
   "name": "python3"
  },
  "language_info": {
   "codemirror_mode": {
    "name": "ipython",
    "version": 3
   },
   "file_extension": ".py",
   "mimetype": "text/x-python",
   "name": "python",
   "nbconvert_exporter": "python",
   "pygments_lexer": "ipython3",
   "version": "3.7.5"
  }
 },
 "nbformat": 4,
 "nbformat_minor": 2
}
