{
 "cells": [
  {
   "cell_type": "markdown",
   "metadata": {},
   "source": [
    "## Exercise 33 - Birthday Dictionaries\n",
    "\n",
    "https://www.practicepython.org/exercise/2017/01/24/33-birthday-dictionaries.html"
   ]
  },
  {
   "cell_type": "code",
   "execution_count": 1,
   "metadata": {},
   "outputs": [
    {
     "name": "stdout",
     "output_type": "stream",
     "text": [
      "Ewa 1988-04-13\n",
      "Ewelina 1982-07-02\n",
      "Karol 1983-07-13\n",
      "Artur 1980-03-14\n",
      "Welcome to the birthday dictionary.\n",
      "Who's birthday do you want to look up?\n",
      "Enter one name: Ewa\n",
      "Ewa birthday is on: 1988-04-13\n"
     ]
    }
   ],
   "source": [
    "dict_friends = {\"Ewa\":'1988-04-13',\n",
    "               \"Ewelina\":'1982-07-02',\n",
    "               \"Karol\":'1983-07-13',\n",
    "               \"Artur\":'1980-03-14'}\n",
    "for friend in dict_friends:\n",
    "    print(friend, dict_friends[friend])\n",
    "    \n",
    "print(\"Welcome to the birthday dictionary.\\nWho's birthday do you want to look up?\")\n",
    "while True:\n",
    "    friend = input(\"Enter one name: \").title()\n",
    "    try:\n",
    "        print(friend, \"birthday is on:\", dict_friends[friend])\n",
    "        break\n",
    "    except:\n",
    "        print(\"Such a name was not found.\\nTray again.\")"
   ]
  },
  {
   "cell_type": "code",
   "execution_count": null,
   "metadata": {},
   "outputs": [],
   "source": []
  }
 ],
 "metadata": {
  "kernelspec": {
   "display_name": "Python 3",
   "language": "python",
   "name": "python3"
  },
  "language_info": {
   "codemirror_mode": {
    "name": "ipython",
    "version": 3
   },
   "file_extension": ".py",
   "mimetype": "text/x-python",
   "name": "python",
   "nbconvert_exporter": "python",
   "pygments_lexer": "ipython3",
   "version": "3.7.5"
  }
 },
 "nbformat": 4,
 "nbformat_minor": 2
}
