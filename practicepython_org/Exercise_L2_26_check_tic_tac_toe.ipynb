{
 "cells": [
  {
   "cell_type": "markdown",
   "metadata": {},
   "source": [
    "## Exercise 26 - Check Tic Tac Toe\n",
    "\n",
    "#### Today, we will simply focus on checking whether someone has WON a game of Tic Tac Toe, not worrying about how the moves were made.\n",
    "\n",
    "https://www.practicepython.org/exercise/2015/11/16/26-check-tic-tac-toe.html"
   ]
  },
  {
   "cell_type": "code",
   "execution_count": 1,
   "metadata": {},
   "outputs": [
    {
     "name": "stdout",
     "output_type": "stream",
     "text": [
      "Raw 1 : [1, 1, 0, 0]\n",
      "Raw 2 : [2, 1, 0, 1]\n",
      "Raw 3 : [2, 2, 1, 2]\n",
      "Raw 4 : [2, 1, 1, 1]\n",
      "Column 1 : [1, 2, 2, 2]\n",
      "Column 2 : [1, 1, 2, 1]\n",
      "Column 3 : [0, 0, 1, 1]\n",
      "Column 4 : [0, 1, 2, 1]\n",
      "Vertical 1: [1, 1, 1, 1]\n",
      "Vertical 2: [0, 0, 2, 2]\n",
      "\n",
      "WINNER: \tThe winner is 1!!!\n"
     ]
    }
   ],
   "source": [
    "# założenia: \n",
    "# 1. jest tylko max jeden wygrany\n",
    "\n",
    "winner_is_2 = [[1, 1, 0, 0],\n",
    "               [2, 1, 0, 1],\n",
    "               [2, 2, 1, 2],\n",
    "               [2, 1, 1, 1]]\n",
    "size = len(winner_is_2)\n",
    "\n",
    "def winner(game_matrix, game_size):\n",
    "    winner_all = 0\n",
    "    raw = list()\n",
    "    for i in range(1,game_size+1):\n",
    "        raw = winner_is_2[i-1]\n",
    "        for n in range(1,game_size):\n",
    "            if raw[n] != raw[n-1]:\n",
    "                winner = 'No winner'\n",
    "                break\n",
    "            else:\n",
    "                winner = '\\tThe winner is ' + str(raw[n]) + '!!!'\n",
    "        if winner != 'No winner':\n",
    "            winner_all = winner\n",
    "        print(\"Raw\", i, \":\", raw)\n",
    "        #print(winner)\n",
    "        \n",
    "    for i in range(1,game_size+1):\n",
    "        column = list()\n",
    "        for j in range(1,game_size+1):\n",
    "            column.append(winner_is_2[j-1][i-1])\n",
    "        print(\"Column\", i, \":\", column)\n",
    "        for n in range(1,game_size):\n",
    "            if column[n] != column[n-1]:\n",
    "                winner = 'No winner'\n",
    "                break\n",
    "            else:\n",
    "                winner = '\\tThe winner is ' + str(column[n]) + '!!!'\n",
    "                #return \"WINNER is \" + str(column[n]) + \" !!! column=\" + str(n)\n",
    "        if winner != 'No winner':\n",
    "            winner_all = winner\n",
    "        #print(winner)\n",
    "    \n",
    "    vertical_1 = list()\n",
    "    vertical_2 = list()\n",
    "    for i in range(1,game_size+1):\n",
    "        vertical_1.append(winner_is_2[i-1][i-1])\n",
    "        vertical_2.append(winner_is_2[i-1][game_size-i])\n",
    "        \n",
    "    for n in range(1,game_size):\n",
    "        if vertical_1[n] != vertical_1[n-1]:\n",
    "            winner_1 = 'No winner'\n",
    "            break\n",
    "        else:\n",
    "            winner_1 = '\\tThe winner is ' + str(vertical_1[n]) + '!!!'\n",
    "            #return \"WINNER is \" + str(vertical_1[n]) + \" !!! vertical 1\"\n",
    "    if winner_1 != 'No winner':\n",
    "        winner_all = winner_1\n",
    "    print(\"Vertical 1:\", vertical_1)\n",
    "    #print(winner_1)\n",
    "    \n",
    "    for n in range(1,game_size):\n",
    "        if vertical_2[n] != vertical_2[n-1]:\n",
    "            winner_2 = 'No winner'\n",
    "            break\n",
    "        else:\n",
    "            winner_2 = '\\tThe winner is ' + str(vertical_2[n]) + '!!!'\n",
    "            #return \"WINNER is \" + str(vertical_2[n]) + \" !!! vertical 2\"\n",
    "    if winner_2 != 'No winner':\n",
    "        winner_all = winner_2\n",
    "    print(\"Vertical 2:\", vertical_2)\n",
    "    #print(winner_2)\n",
    "    \n",
    "    print(\"\\nWINNER:\", winner_all)\n",
    "        \n",
    "winner(winner_is_2,size)"
   ]
  },
  {
   "cell_type": "code",
   "execution_count": 2,
   "metadata": {},
   "outputs": [
    {
     "name": "stdout",
     "output_type": "stream",
     "text": [
      "WINNER: {2}\n",
      "WINNER: 2\n"
     ]
    }
   ],
   "source": [
    "# rozwiązanie oparte o set-y\n",
    "\n",
    "import numpy\n",
    "\n",
    "game_gird = [[2, 1, 1, 0],\n",
    "             [2, 2, 0, 1],\n",
    "             [2, 0, 2, 2],\n",
    "             [2, 1, 0, 2]]\n",
    "game_trans = numpy.transpose(game_gird)\n",
    "\n",
    "def winner(game_matrix):    \n",
    "    size = len(game_matrix)\n",
    "    for i in range(1,size+1):\n",
    "        if len(set(game_matrix[i-1])) == 1 and game_matrix[i-1][0] != 0:\n",
    "            winner = set(game_matrix[i-1])\n",
    "            print(\"WINNER:\", winner)\n",
    "            #return winner\n",
    "        \n",
    "def winner_v(game_matrix): \n",
    "    size = len(game_matrix)\n",
    "    vertical_1 = list()\n",
    "    vertical_2 = list()\n",
    "    for i in range(1,size+1):\n",
    "        vertical_1.append(game_matrix[i-1][i-1])\n",
    "        vertical_2.append(game_matrix[i-1][size-i])\n",
    "    if len(set(vertical_1)) == 1 and vertical_1[0] != 0:\n",
    "        winner = vertical_1[0]\n",
    "        print(\"WINNER:\", winner)\n",
    "        #return winner\n",
    "    if len(set(vertical_2)) == 1 and vertical_2[0] != 0:\n",
    "        winner = vertical_2[0]\n",
    "        print(\"WINNER:\", winner)\n",
    "        #return winner\n",
    "    \n",
    "winner(game_gird) # raw check\n",
    "winner(game_trans) # column check\n",
    "winner_v(game_gird) # vertical check"
   ]
  },
  {
   "cell_type": "code",
   "execution_count": null,
   "metadata": {},
   "outputs": [],
   "source": []
  }
 ],
 "metadata": {
  "kernelspec": {
   "display_name": "Python 3",
   "language": "python",
   "name": "python3"
  },
  "language_info": {
   "codemirror_mode": {
    "name": "ipython",
    "version": 3
   },
   "file_extension": ".py",
   "mimetype": "text/x-python",
   "name": "python",
   "nbconvert_exporter": "python",
   "pygments_lexer": "ipython3",
   "version": "3.7.5"
  }
 },
 "nbformat": 4,
 "nbformat_minor": 2
}
