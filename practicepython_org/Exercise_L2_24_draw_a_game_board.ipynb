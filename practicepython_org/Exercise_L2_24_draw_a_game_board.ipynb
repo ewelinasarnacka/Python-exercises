{
 "cells": [
  {
   "cell_type": "markdown",
   "metadata": {},
   "source": [
    "## Exercise 24 - Draw A Game Board\n",
    "\n",
    "https://www.practicepython.org/exercise/2014/12/27/24-draw-a-game-board.html"
   ]
  },
  {
   "cell_type": "code",
   "execution_count": 1,
   "metadata": {},
   "outputs": [
    {
     "name": "stdout",
     "output_type": "stream",
     "text": [
      "What size game board do you want to draw?\n",
      "5\n"
     ]
    }
   ],
   "source": [
    "while True:\n",
    "    try:\n",
    "        size = int(input(\"What size game board do you want to draw?\\n\"))\n",
    "        break\n",
    "    except:\n",
    "        print(\"This isn't intiger. Try again.\")"
   ]
  },
  {
   "cell_type": "code",
   "execution_count": 3,
   "metadata": {},
   "outputs": [
    {
     "name": "stdout",
     "output_type": "stream",
     "text": [
      " --- --- --- --- ---\n",
      "|   |   |   |   |   |   \n",
      " --- --- --- --- ---\n",
      "|   |   |   |   |   |   \n",
      " --- --- --- --- ---\n",
      "|   |   |   |   |   |   \n",
      " --- --- --- --- ---\n",
      "|   |   |   |   |   |   \n",
      " --- --- --- --- ---\n",
      "|   |   |   |   |   |   \n",
      " --- --- --- --- ---\n"
     ]
    }
   ],
   "source": [
    "horizontal = \" ---\"\n",
    "vertical = \"|   \"\n",
    "\n",
    "def draw(game_size):\n",
    "    for i in range(game_size):\n",
    "        print(horizontal * game_size)\n",
    "        print(vertical * (game_size + 1))\n",
    "    print(horizontal * game_size)\n",
    "\n",
    "draw(size)"
   ]
  },
  {
   "cell_type": "code",
   "execution_count": null,
   "metadata": {},
   "outputs": [],
   "source": []
  }
 ],
 "metadata": {
  "kernelspec": {
   "display_name": "Python 3",
   "language": "python",
   "name": "python3"
  },
  "language_info": {
   "codemirror_mode": {
    "name": "ipython",
    "version": 3
   },
   "file_extension": ".py",
   "mimetype": "text/x-python",
   "name": "python",
   "nbconvert_exporter": "python",
   "pygments_lexer": "ipython3",
   "version": "3.7.5"
  }
 },
 "nbformat": 4,
 "nbformat_minor": 2
}
