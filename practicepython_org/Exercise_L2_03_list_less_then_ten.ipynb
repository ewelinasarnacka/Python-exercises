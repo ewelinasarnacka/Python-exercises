{
 "cells": [
  {
   "cell_type": "markdown",
   "metadata": {},
   "source": [
    "## Exercise 3 - List Less Than Ten\n",
    "\n",
    " https://www.practicepython.org/exercise/2014/02/15/03-list-less-than-ten.html"
   ]
  },
  {
   "cell_type": "code",
   "execution_count": 3,
   "metadata": {},
   "outputs": [
    {
     "name": "stdout",
     "output_type": "stream",
     "text": [
      "Enter a list of intigers separated by coma 4,6,7,3,4,5,6\n",
      "[4, 6, 7, 3, 4, 5, 6]\n"
     ]
    }
   ],
   "source": [
    "while True:\n",
    "    input_num = input(\"Enter a list of intigers separated by coma \")\n",
    "    list_random = input_num.split(\",\")\n",
    "    try:\n",
    "        list_num = []\n",
    "        for i in list_random:\n",
    "            num = int(i)\n",
    "            list_num.append(num)\n",
    "        print(list_num)\n",
    "        break\n",
    "    except ValueError:\n",
    "        print(\"Error - it isn't intigers. Try again.\")"
   ]
  },
  {
   "cell_type": "code",
   "execution_count": 16,
   "metadata": {},
   "outputs": [
    {
     "name": "stdout",
     "output_type": "stream",
     "text": [
      "[4, 6, 7, 3, 4, 5, 6]\n",
      "Enter one number:44\n",
      "Numbers on the list that are less then 44: [4, 6, 7, 3, 4, 5, 6]\n"
     ]
    }
   ],
   "source": [
    "print(list_num)\n",
    "    \n",
    "def show_less_then(list_num,border):\n",
    "    list_show = list()\n",
    "    for i in list_num:\n",
    "        if i < border:\n",
    "            list_show.append(i)\n",
    "            #print(i)\n",
    "    print(\"Numbers on the list that are less then {}: {}\".format(border,list_show))\n",
    "    \n",
    "border = int(input(\"Enter one number:\"))\n",
    "show_less_then(list_num,border)\n",
    "\n",
    "#print([num for num in list_num if num < 7])"
   ]
  },
  {
   "cell_type": "code",
   "execution_count": null,
   "metadata": {},
   "outputs": [],
   "source": []
  }
 ],
 "metadata": {
  "kernelspec": {
   "display_name": "Python 3",
   "language": "python",
   "name": "python3"
  },
  "language_info": {
   "codemirror_mode": {
    "name": "ipython",
    "version": 3
   },
   "file_extension": ".py",
   "mimetype": "text/x-python",
   "name": "python",
   "nbconvert_exporter": "python",
   "pygments_lexer": "ipython3",
   "version": "3.7.5"
  }
 },
 "nbformat": 4,
 "nbformat_minor": 2
}
