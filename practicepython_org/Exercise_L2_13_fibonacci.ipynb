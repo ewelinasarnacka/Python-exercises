{
 "cells": [
  {
   "cell_type": "markdown",
   "metadata": {},
   "source": [
    "## Exercise 13 - Fibonacci\n",
    "\n",
    "https://www.practicepython.org/exercise/2014/04/30/13-fibonacci.html"
   ]
  },
  {
   "cell_type": "code",
   "execution_count": 1,
   "metadata": {},
   "outputs": [
    {
     "name": "stdout",
     "output_type": "stream",
     "text": [
      "How many Fibonnaci numbers to generate:\n",
      "7\n"
     ]
    }
   ],
   "source": [
    "while True:\n",
    "    try:       \n",
    "        user_number = int(input(\"How many Fibonnaci numbers to generate:\\n\"))\n",
    "        break\n",
    "    except:\n",
    "        print(\"The naumber isn't intiger. Try again.\")"
   ]
  },
  {
   "cell_type": "code",
   "execution_count": 2,
   "metadata": {},
   "outputs": [
    {
     "name": "stdout",
     "output_type": "stream",
     "text": [
      "[]\n",
      "[]\n",
      "[1]\n",
      "[1, 1]\n",
      "[1, 1, 2]\n",
      "[1, 1, 2, 3]\n",
      "[1, 1, 2, 3, 5, 8, 13, 21, 34]\n"
     ]
    }
   ],
   "source": [
    "def fibonnaci(number):\n",
    "    if number == 1:\n",
    "        fib_list = [1]\n",
    "    elif number <= 0:\n",
    "        fib_list = list()\n",
    "    else:\n",
    "        fib_list = [1,1]\n",
    "        i = 1\n",
    "        f = 1\n",
    "        while i <= number - 2:\n",
    "            #fib_len = len(fib_list)\n",
    "            #index_end = fib_len - 1\n",
    "            #index_end_1 = fib_len - 2\n",
    "            #fib_sum = fib_list[index_end] + fib_list[index_end_1]\n",
    "            #fib_list.append(fib_sum)\n",
    "            fib_list.append(fib_list[i] + fib_list[i-1])\n",
    "            i += 1\n",
    "    print(fib_list)\n",
    "    \n",
    "fibonnaci(-1)\n",
    "fibonnaci(0)\n",
    "fibonnaci(1)\n",
    "fibonnaci(2)\n",
    "fibonnaci(3)\n",
    "fibonnaci(4)\n",
    "fibonnaci(9)"
   ]
  },
  {
   "cell_type": "code",
   "execution_count": null,
   "metadata": {},
   "outputs": [],
   "source": []
  }
 ],
 "metadata": {
  "kernelspec": {
   "display_name": "Python 3",
   "language": "python",
   "name": "python3"
  },
  "language_info": {
   "codemirror_mode": {
    "name": "ipython",
    "version": 3
   },
   "file_extension": ".py",
   "mimetype": "text/x-python",
   "name": "python",
   "nbconvert_exporter": "python",
   "pygments_lexer": "ipython3",
   "version": "3.7.5"
  }
 },
 "nbformat": 4,
 "nbformat_minor": 2
}
