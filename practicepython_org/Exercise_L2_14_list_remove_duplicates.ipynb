{
 "cells": [
  {
   "cell_type": "markdown",
   "metadata": {},
   "source": [
    "## Exercise 14 - List Remove Duplicates\n",
    "\n",
    "https://www.practicepython.org/exercise/2014/05/15/14-list-remove-duplicates.html"
   ]
  },
  {
   "cell_type": "code",
   "execution_count": 1,
   "metadata": {},
   "outputs": [
    {
     "name": "stdout",
     "output_type": "stream",
     "text": [
      "[2, 2, 10, 10]\n",
      "[1, 3, 4, 5, 6, 7, 8, 9, 11, 12, 13]\n"
     ]
    }
   ],
   "source": [
    "a = [1, 2, 2, 3, 4, 5, 6, 7, 8, 9, 10, 10, 11, 12, 13]\n",
    "\n",
    "def unique_elements(list):\n",
    "    b = [aa for aa in a if a.count(aa) > 1]\n",
    "    c = [aa for aa in a if a.count(aa) == 1]\n",
    "    print(b)\n",
    "    print(c)\n",
    "    \n",
    "unique_elements(a)"
   ]
  },
  {
   "cell_type": "code",
   "execution_count": 2,
   "metadata": {},
   "outputs": [
    {
     "data": {
      "text/plain": [
       "({1, 2, 3, 4, 5, 6, 7, 8, 9, 10, 11, 12, 13},\n",
       " [1, 2, 3, 4, 5, 6, 7, 8, 9, 10, 11, 12, 13])"
      ]
     },
     "execution_count": 2,
     "metadata": {},
     "output_type": "execute_result"
    }
   ],
   "source": [
    "a = [1, 2, 2, 3, 4, 5, 6, 7, 8, 9, 10, 10, 11, 12, 13]\n",
    "\n",
    "def unique_elements(lista):\n",
    "    d = set(a)\n",
    "    e = list()\n",
    "    for i in lista:\n",
    "        if i not in e:\n",
    "            e.append(i)\n",
    "    return d, e\n",
    "\n",
    "unique_elements(a)"
   ]
  },
  {
   "cell_type": "code",
   "execution_count": null,
   "metadata": {},
   "outputs": [],
   "source": []
  }
 ],
 "metadata": {
  "kernelspec": {
   "display_name": "Python 3",
   "language": "python",
   "name": "python3"
  },
  "language_info": {
   "codemirror_mode": {
    "name": "ipython",
    "version": 3
   },
   "file_extension": ".py",
   "mimetype": "text/x-python",
   "name": "python",
   "nbconvert_exporter": "python",
   "pygments_lexer": "ipython3",
   "version": "3.7.5"
  }
 },
 "nbformat": 4,
 "nbformat_minor": 2
}
