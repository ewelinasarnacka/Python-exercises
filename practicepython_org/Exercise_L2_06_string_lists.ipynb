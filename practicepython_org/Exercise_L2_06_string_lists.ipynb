{
 "cells": [
  {
   "cell_type": "markdown",
   "metadata": {},
   "source": [
    "## Exercise 6 - String Lists\n",
    "\n",
    "https://www.practicepython.org/exercise/2014/03/12/06-string-lists.html"
   ]
  },
  {
   "cell_type": "code",
   "execution_count": 1,
   "metadata": {},
   "outputs": [
    {
     "name": "stdout",
     "output_type": "stream",
     "text": [
      "Sprawdzenie, czy podany argument jest palindromem.\n",
      "Podany argument ('2KAJAK2') jest palindromem\n",
      "Sprawdzenie, czy podany argument jest palindromem.\n",
      "Podany argument ('KOBYŁAMAMAŁYBOK') jest palindromem\n",
      "Sprawdzenie, czy podany argument jest palindromem.\n",
      "Podany argument ('2KAJAK2!') nie jest palindromem\n"
     ]
    },
    {
     "data": {
      "text/plain": [
       "'Nie'"
      ]
     },
     "execution_count": 1,
     "metadata": {},
     "output_type": "execute_result"
    }
   ],
   "source": [
    "def czyPalindrom(text):\n",
    "    print(\"Sprawdzenie, czy podany argument jest palindromem.\")\n",
    "    text = text.upper().replace(' ', '')\n",
    "    r_string = text[::-1]\n",
    "    if text == r_string:\n",
    "        print(\"Podany argument ('%s') jest palindromem\" % text)\n",
    "        return \"Tak\"\n",
    "    else:\n",
    "        print(\"Podany argument ('%s') nie jest palindromem\" % text)\n",
    "        return \"Nie\"\n",
    "\n",
    "czyPalindrom(\"2kajak2\")\n",
    "czyPalindrom(\"Kobyła ma mały bok\")\n",
    "czyPalindrom(\"2kajak2!\")"
   ]
  },
  {
   "cell_type": "code",
   "execution_count": null,
   "metadata": {},
   "outputs": [],
   "source": []
  }
 ],
 "metadata": {
  "kernelspec": {
   "display_name": "Python 3",
   "language": "python",
   "name": "python3"
  },
  "language_info": {
   "codemirror_mode": {
    "name": "ipython",
    "version": 3
   },
   "file_extension": ".py",
   "mimetype": "text/x-python",
   "name": "python",
   "nbconvert_exporter": "python",
   "pygments_lexer": "ipython3",
   "version": "3.7.5"
  }
 },
 "nbformat": 4,
 "nbformat_minor": 2
}
